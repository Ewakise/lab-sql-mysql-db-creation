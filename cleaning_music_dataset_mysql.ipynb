{
 "cells": [
  {
   "cell_type": "code",
   "execution_count": 3,
   "id": "536f811f",
   "metadata": {
    "scrolled": true
   },
   "outputs": [
    {
     "name": "stdout",
     "output_type": "stream",
     "text": [
      "\n",
      "CREATE TABLE top_50_tracks (\n",
      "    trackname VARCHAR(255),\n",
      "    artistname VARCHAR(255),\n",
      "    genre VARCHAR(100),\n",
      "    beatsperminute INT,\n",
      "    energy INT,\n",
      "    danceability INT,\n",
      "    loudnessdb INT,\n",
      "    liveness INT,\n",
      "    valence INT,\n",
      "    length INT,\n",
      "    acousticness INT,\n",
      "    speechiness INT,\n",
      "    popularity INT\n",
      ");\n",
      "\n"
     ]
    },
    {
     "name": "stderr",
     "output_type": "stream",
     "text": [
      "C:\\Users\\ewaki\\AppData\\Local\\Temp\\ipykernel_15084\\3323429917.py:41: FutureWarning: errors='ignore' is deprecated and will raise in a future version. Use to_numeric without passing `errors` and catch exceptions explicitly instead\n",
      "  df = df.apply(pd.to_numeric, errors='ignore')\n"
     ]
    }
   ],
   "source": [
    "#Cleaning and Preparing a Music Dataset for MySQL\n",
    "\n",
    "\n",
    "import pandas as pd\n",
    "import unicodedata\n",
    "import re\n",
    "\n",
    "# Load the data set\n",
    "\n",
    "file_path = \"top50.csv\"  # Make sure this file is in the same directory\n",
    "df = pd.read_csv(file_path, encoding='latin1')\n",
    "\n",
    "# Drop Unnecessary Columns\n",
    "\n",
    "df.drop(columns=['Unnamed: 0'], inplace=True)\n",
    "\n",
    "# Clean and Standardize Column Names\n",
    "\n",
    "df.columns = [\n",
    "    re.sub(r'[^\\w]', '_', col.lower()) for col in df.columns\n",
    "]\n",
    "\n",
    "# Remove Special Characters, Accents, and Convert Text to Lowercase\n",
    "\n",
    "def prepare_for_sql(val):\n",
    "    if isinstance(val, str):\n",
    "        # Normalize and remove accented characters\n",
    "        val = unicodedata.normalize('NFKD', val).encode('ASCII', 'ignore').decode('utf-8')\n",
    "        # Convert to lowercase\n",
    "        val = val.lower()\n",
    "        # Remove special characters (keep alphanumeric and space)\n",
    "        val = re.sub(r'[^\\w\\s]', '', val)\n",
    "    return val\n",
    "\n",
    "# Apply to string fields\n",
    "for col in df.select_dtypes(include='object').columns:\n",
    "    df[col] = df[col].apply(prepare_for_sql)\n",
    "\n",
    "# ## Step 5: Drop Duplicates and Standardize Data Types\n",
    "df.drop_duplicates(inplace=True)\n",
    "df = df.apply(pd.to_numeric, errors='ignore')\n",
    "\n",
    "# ## Step 6: Final Preview\n",
    "df.head()\n",
    "\n",
    "# Save the Cleaned Dataset\n",
    "df.to_csv(\"top50_cleaned_mysql_ready.csv\", index=False)\n",
    "\n",
    "# ## Step 8: Example MySQL CREATE TABLE Statement\n",
    "print(\"\"\"\n",
    "CREATE TABLE top_50_tracks (\n",
    "    trackname VARCHAR(255),\n",
    "    artistname VARCHAR(255),\n",
    "    genre VARCHAR(100),\n",
    "    beatsperminute INT,\n",
    "    energy INT,\n",
    "    danceability INT,\n",
    "    loudnessdb INT,\n",
    "    liveness INT,\n",
    "    valence INT,\n",
    "    length INT,\n",
    "    acousticness INT,\n",
    "    speechiness INT,\n",
    "    popularity INT\n",
    ");\n",
    "\"\"\")\n"
   ]
  },
  {
   "cell_type": "code",
   "execution_count": null,
   "id": "a15b7d5a-534e-4bd9-ada5-8103bcc3fa2e",
   "metadata": {},
   "outputs": [],
   "source": []
  }
 ],
 "metadata": {
  "kernelspec": {
   "display_name": "Python [conda env:.ipython]",
   "language": "python",
   "name": "conda-env-.ipython-py"
  },
  "language_info": {
   "codemirror_mode": {
    "name": "ipython",
    "version": 3
   },
   "file_extension": ".py",
   "mimetype": "text/x-python",
   "name": "python",
   "nbconvert_exporter": "python",
   "pygments_lexer": "ipython3",
   "version": "3.12.7"
  }
 },
 "nbformat": 4,
 "nbformat_minor": 5
}
